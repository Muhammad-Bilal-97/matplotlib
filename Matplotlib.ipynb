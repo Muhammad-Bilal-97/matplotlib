{
 "cells": [
  {
   "cell_type": "code",
   "execution_count": null,
   "id": "8d9084c1",
   "metadata": {},
   "outputs": [],
   "source": [
    " # Matplotlib"
   ]
  },
  {
   "cell_type": "code",
   "execution_count": null,
   "id": "0f140456",
   "metadata": {},
   "outputs": [],
   "source": [
    "import matplotlib.pyplot as plt"
   ]
  },
  {
   "cell_type": "code",
   "execution_count": null,
   "id": "6025a54c",
   "metadata": {},
   "outputs": [],
   "source": [
    "# for graphs to be seen in jupyter notebook \n",
    "%matplotlib inline"
   ]
  },
  {
   "cell_type": "code",
   "execution_count": null,
   "id": "e86cc1c2",
   "metadata": {},
   "outputs": [],
   "source": [
    "import numpy as np"
   ]
  },
  {
   "cell_type": "code",
   "execution_count": null,
   "id": "61d8ea9a",
   "metadata": {},
   "outputs": [],
   "source": [
    "x = np.linspace(0,5,11)"
   ]
  },
  {
   "cell_type": "code",
   "execution_count": null,
   "id": "ec6c0222",
   "metadata": {},
   "outputs": [],
   "source": [
    "y = x ** 2"
   ]
  },
  {
   "cell_type": "code",
   "execution_count": null,
   "id": "51b6fa07",
   "metadata": {},
   "outputs": [],
   "source": [
    "x"
   ]
  },
  {
   "cell_type": "code",
   "execution_count": null,
   "id": "89b5bd2e",
   "metadata": {},
   "outputs": [],
   "source": [
    "y"
   ]
  },
  {
   "cell_type": "code",
   "execution_count": null,
   "id": "fee494c9",
   "metadata": {},
   "outputs": [],
   "source": [
    "plt.plot(x,y, 'r')"
   ]
  },
  {
   "cell_type": "code",
   "execution_count": null,
   "id": "673de07c",
   "metadata": {},
   "outputs": [],
   "source": [
    "plt.plot(x,y, 'r')\n",
    "plt.xlabel('X Axis Title here')\n",
    "plt.ylabel('Y Axis Title Here')\n",
    "plt.title('String Title here')\n",
    "plt.show()"
   ]
  },
  {
   "cell_type": "code",
   "execution_count": null,
   "id": "2959bf6b",
   "metadata": {},
   "outputs": [],
   "source": [
    "plt.subplot(1,2,1)\n",
    "plt.plot(x,y, 'r--')\n",
    "plt.subplot(1,2,2)\n",
    "plt.plot(y,x,'g*-')"
   ]
  },
  {
   "cell_type": "code",
   "execution_count": null,
   "id": "f0e207ed",
   "metadata": {},
   "outputs": [],
   "source": [
    "# Second method that is object oriented"
   ]
  },
  {
   "cell_type": "code",
   "execution_count": null,
   "id": "c5dbe9ac",
   "metadata": {},
   "outputs": [],
   "source": [
    "fig = plt.figure()\n",
    "\n",
    "axes = fig.add_axes([0.2,0.2,0.8,0.8])\n",
    "axes.plot(x,y,'b')\n",
    "axes.set_xlabel('Set X Label')\n",
    "axes.set_ylabel('Set Y Label')\n",
    "axes.set_title('Set Title')"
   ]
  },
  {
   "cell_type": "code",
   "execution_count": null,
   "id": "dcf5896f",
   "metadata": {},
   "outputs": [],
   "source": [
    "fig = plt.figure()\n",
    "\n",
    "axes1 = fig.add_axes([0.1,0.1,0.8,0.8])\n",
    "axes2 = fig.add_axes([0.2,0.5,0.4,0.3])\n",
    "\n",
    "axes1.plot(x,y,'b')\n",
    "axes1.set_xlabel('X_label_axes1')\n",
    "axes1.set_ylabel('Y_label_axes1')\n",
    "axes1.set_title('Axes 1 title')\n",
    "\n",
    "\n",
    "axes2.plot(x,y,'b')\n",
    "axes2.set_xlabel('X_label_axes2')\n",
    "axes2.set_ylabel('Y_label_axes2')\n",
    "axes2.set_title('Axes 2 title')"
   ]
  },
  {
   "cell_type": "code",
   "execution_count": null,
   "id": "145f781b",
   "metadata": {},
   "outputs": [],
   "source": [
    "# Subplots"
   ]
  },
  {
   "cell_type": "code",
   "execution_count": null,
   "id": "9deb8a99",
   "metadata": {},
   "outputs": [],
   "source": [
    "fig, axes = plt.subplots()\n",
    "\n",
    "axes.plot(x,y,'r')\n",
    "axes.set_xlabel('x')\n",
    "axes.set_ylabel('y')\n",
    "axes.set_title('title')"
   ]
  },
  {
   "cell_type": "code",
   "execution_count": null,
   "id": "6d200a9d",
   "metadata": {},
   "outputs": [],
   "source": [
    "fig, axes = plt.subplots(nrows = 1, ncols = 2)"
   ]
  },
  {
   "cell_type": "code",
   "execution_count": null,
   "id": "a59a056d",
   "metadata": {},
   "outputs": [],
   "source": [
    "axes"
   ]
  },
  {
   "cell_type": "code",
   "execution_count": null,
   "id": "608aa0ff",
   "metadata": {},
   "outputs": [],
   "source": [
    "for ax in axes:\n",
    "    ax.plot(x,y,'b')\n",
    "    ax.set_xlabel('x')\n",
    "    ax.set_ylabel('y')\n",
    "    ax.set_title('title')\n",
    "    \n",
    "fig"
   ]
  },
  {
   "cell_type": "code",
   "execution_count": null,
   "id": "23a69a2e",
   "metadata": {},
   "outputs": [],
   "source": [
    "fig, axes = plt.subplots(nrows = 1, ncols = 2)\n",
    "\n",
    "for ax in axes:\n",
    "    ax.plot(x,y,'b')\n",
    "    ax.set_xlabel('x')\n",
    "    ax.set_ylabel('y')\n",
    "    ax.set_title('title')\n",
    "    \n",
    "fig\n",
    "plt.tight_layout()"
   ]
  },
  {
   "cell_type": "code",
   "execution_count": null,
   "id": "424460d4",
   "metadata": {},
   "outputs": [],
   "source": [
    "# Figure size, Aspect Ratio, DPI"
   ]
  },
  {
   "cell_type": "code",
   "execution_count": null,
   "id": "2ded2b2f",
   "metadata": {},
   "outputs": [],
   "source": [
    "fig = plt.figure(figsize=(8,3), dpi=100)"
   ]
  },
  {
   "cell_type": "code",
   "execution_count": null,
   "id": "c2abb3ab",
   "metadata": {},
   "outputs": [],
   "source": [
    "fig, axes = plt.subplots(figsize=(12,3))\n",
    "\n",
    "axes.plot(x,y,'r')\n",
    "axes.set_xlabel('x')\n",
    "axes.set_ylabel('y')\n",
    "axes.set_title('title')"
   ]
  },
  {
   "cell_type": "code",
   "execution_count": null,
   "id": "53a288d0",
   "metadata": {},
   "outputs": [],
   "source": [
    "# Save figure"
   ]
  },
  {
   "cell_type": "code",
   "execution_count": null,
   "id": "bf2e6b23",
   "metadata": {},
   "outputs": [],
   "source": [
    "fig.savefig(\"filename.png\")"
   ]
  },
  {
   "cell_type": "code",
   "execution_count": null,
   "id": "f11ef7f1",
   "metadata": {},
   "outputs": [],
   "source": [
    "fig.savefig(\"filename.png\", dpi=200)"
   ]
  },
  {
   "cell_type": "code",
   "execution_count": null,
   "id": "1d66e008",
   "metadata": {},
   "outputs": [],
   "source": [
    "# Legends Labels and Titles"
   ]
  },
  {
   "cell_type": "code",
   "execution_count": null,
   "id": "d6acef06",
   "metadata": {},
   "outputs": [],
   "source": [
    "ax.set_title('title')"
   ]
  },
  {
   "cell_type": "code",
   "execution_count": null,
   "id": "91495bbc",
   "metadata": {},
   "outputs": [],
   "source": [
    "ax.set_xlabel(\"x\")\n",
    "ax.set_ylabel('y')"
   ]
  },
  {
   "cell_type": "code",
   "execution_count": null,
   "id": "bbcfaffb",
   "metadata": {},
   "outputs": [],
   "source": [
    "# Legends"
   ]
  },
  {
   "cell_type": "code",
   "execution_count": null,
   "id": "3a4d24bd",
   "metadata": {},
   "outputs": [],
   "source": [
    "fig = plt.figure()\n",
    "\n",
    "ax = fig.add_axes([0,0,1,1])\n",
    "\n",
    "ax.plot(x,x**2, label='x**2')\n",
    "ax.plot(x,x**3, label=\"x**3\")\n",
    "ax.legend()"
   ]
  },
  {
   "cell_type": "code",
   "execution_count": null,
   "id": "e72ebdf6",
   "metadata": {},
   "outputs": [],
   "source": [
    "# Locations of legends"
   ]
  },
  {
   "cell_type": "code",
   "execution_count": null,
   "id": "1817f1e7",
   "metadata": {},
   "outputs": [],
   "source": [
    "fig = plt.figure()\n",
    "\n",
    "ax = fig.add_axes([0,0,1,1])\n",
    "\n",
    "ax.plot(x,x**2, label='x**2')\n",
    "ax.plot(x,x**3, label=\"x**3\")\n",
    "ax.legend(loc=5)"
   ]
  },
  {
   "cell_type": "code",
   "execution_count": null,
   "id": "ba993537",
   "metadata": {},
   "outputs": [],
   "source": [
    "# Colors"
   ]
  },
  {
   "cell_type": "code",
   "execution_count": null,
   "id": "0273c054",
   "metadata": {},
   "outputs": [],
   "source": [
    "fig, ax = plt.subplots()\n",
    "\n",
    "ax.plot(x, x**2, 'b.-')\n",
    "ax.plot(x, x**3, 'g--')"
   ]
  },
  {
   "cell_type": "code",
   "execution_count": null,
   "id": "469cc4eb",
   "metadata": {},
   "outputs": [],
   "source": [
    "fig, ax = plt.subplots()\n",
    "\n",
    "# alpha is the transparency of lines\n",
    "ax.plot(x, x+1, color=\"blue\", alpha=0.7)\n",
    "ax.plot(x, x+2, color=\"#8B008B\")\n",
    "ax.plot(x, x+3, color=\"#FF8C00\")"
   ]
  },
  {
   "cell_type": "code",
   "execution_count": null,
   "id": "bd817d35",
   "metadata": {},
   "outputs": [],
   "source": [
    "# line and marker style"
   ]
  },
  {
   "cell_type": "code",
   "execution_count": null,
   "id": "4e52d821",
   "metadata": {},
   "outputs": [],
   "source": [
    "fig, ax = plt.subplots(figsize=(12,6))\n",
    "\n",
    "ax.plot(x, x+1, color=\"red\", linewidth=0.25)\n",
    "ax.plot(x, x+2, color=\"red\", linewidth=0.5)\n",
    "ax.plot(x, x+3, color=\"red\", linewidth=1)\n",
    "ax.plot(x, x+4, color=\"red\", linewidth=2)\n",
    "\n",
    "\n",
    "# lw = line width, ls = line style\n",
    "ax.plot(x, x+5, color=\"green\", lw=3, ls='-')\n",
    "ax.plot(x, x+6, color=\"green\", lw=3, ls='-.')\n",
    "ax.plot(x, x+7, color=\"green\", lw=3, ls=\":\")\n",
    "\n",
    "\n",
    "line, = ax.plot(x, x+8, color=\"black\", lw=1.5)\n",
    "line.set_dashes([5,10,15,10])\n",
    "\n",
    "ax.plot(x, x+9, color=\"blue\", lw=3, ls='-', marker='o', markersize=10, markerfacecolor=\"red\", markeredgewidth=3, markeredgecolor=\"green\")"
   ]
  },
  {
   "cell_type": "code",
   "execution_count": null,
   "id": "45d75a8c",
   "metadata": {},
   "outputs": [],
   "source": [
    "# axis appearance"
   ]
  },
  {
   "cell_type": "code",
   "execution_count": null,
   "id": "e2e37092",
   "metadata": {},
   "outputs": [],
   "source": [
    "fig, axes = plt.subplots(1,3, figsize=(12,4))\n",
    "\n",
    "axes[0].plot(x, x**2, x, x**3)\n",
    "axes[0].set_title('default axes ranges')\n",
    "\n",
    "axes[1].plot(x, x**2, x, x**3)\n",
    "axes[1].axis('tight')\n",
    "axes[1].set_title('tight axes')\n",
    "\n",
    "axes[2].plot(x, x**2, x, x**3)\n",
    "axes[2].set_ylim([0, 60])\n",
    "axes[2].set_xlim([2, 5])\n",
    "axes[2].set_title('custom axes range')"
   ]
  },
  {
   "cell_type": "code",
   "execution_count": null,
   "id": "6685e44d",
   "metadata": {},
   "outputs": [],
   "source": [
    "# Special plots"
   ]
  },
  {
   "cell_type": "code",
   "execution_count": null,
   "id": "9d198910",
   "metadata": {},
   "outputs": [],
   "source": [
    "plt.scatter(x,y)"
   ]
  },
  {
   "cell_type": "code",
   "execution_count": null,
   "id": "96ed0cd8",
   "metadata": {},
   "outputs": [],
   "source": [
    "from random import sample"
   ]
  },
  {
   "cell_type": "code",
   "execution_count": null,
   "id": "a8b8db9b",
   "metadata": {},
   "outputs": [],
   "source": [
    "data = sample(range(1,1000),100)"
   ]
  },
  {
   "cell_type": "code",
   "execution_count": null,
   "id": "b88bfd90",
   "metadata": {},
   "outputs": [],
   "source": [
    "plt.hist(data)"
   ]
  },
  {
   "cell_type": "code",
   "execution_count": null,
   "id": "d84f20ac",
   "metadata": {},
   "outputs": [],
   "source": [
    "data = [np.random.normal(0,std,100) for std in range(1,4)]\n",
    "\n",
    "plt.boxplot(data, vert=True, patch_artist=True)"
   ]
  }
 ],
 "metadata": {
  "kernelspec": {
   "display_name": "Python 3 (ipykernel)",
   "language": "python",
   "name": "python3"
  },
  "language_info": {
   "codemirror_mode": {
    "name": "ipython",
    "version": 3
   },
   "file_extension": ".py",
   "mimetype": "text/x-python",
   "name": "python",
   "nbconvert_exporter": "python",
   "pygments_lexer": "ipython3",
   "version": "3.9.7"
  }
 },
 "nbformat": 4,
 "nbformat_minor": 5
}
